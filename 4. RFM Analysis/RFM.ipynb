{
 "cells": [
  {
   "cell_type": "markdown",
   "metadata": {},
   "source": [
    "**Task:**\n",
    "\n",
    "Conduct RFM-analysis\n",
    "- vip (started buying a long time ago, buy often, have a high average bill);\n",
    "- constant audience (started buying a long time ago, buy with a certain frequency, have the average bill that is not lower than the average for all users);\n",
    "- new users (bought something recently, the average bill is to be determined)."
   ]
  },
  {
   "cell_type": "markdown",
   "metadata": {},
   "source": [
    "- dimension12 - user id\n",
    "- date - session and transaction date\n",
    "- ga:transactions - purchase\n",
    "- ga:transactionRevenue - revenue"
   ]
  },
  {
   "cell_type": "code",
   "execution_count": 1,
   "metadata": {},
   "outputs": [],
   "source": [
    "import pandas as pd\n",
    "%matplotlib inline\n",
    "import matplotlib.pyplot as plt\n",
    "import matplotlib\n",
    "matplotlib.style.use('ggplot')\n",
    "matplotlib.rcParams.update({'font.size': 18})\n",
    "plt.rcParams[\"figure.figsize\"] = (15,10)\n",
    "\n",
    "import warnings\n",
    "warnings.filterwarnings('ignore')"
   ]
  },
  {
   "cell_type": "code",
   "execution_count": 2,
   "metadata": {
    "scrolled": false
   },
   "outputs": [
    {
     "data": {
      "text/html": [
       "<div>\n",
       "<style scoped>\n",
       "    .dataframe tbody tr th:only-of-type {\n",
       "        vertical-align: middle;\n",
       "    }\n",
       "\n",
       "    .dataframe tbody tr th {\n",
       "        vertical-align: top;\n",
       "    }\n",
       "\n",
       "    .dataframe thead th {\n",
       "        text-align: right;\n",
       "    }\n",
       "</style>\n",
       "<table border=\"1\" class=\"dataframe\">\n",
       "  <thead>\n",
       "    <tr style=\"text-align: right;\">\n",
       "      <th></th>\n",
       "      <th>dimension12</th>\n",
       "      <th>date</th>\n",
       "      <th>transactions</th>\n",
       "      <th>transactionRevenue</th>\n",
       "    </tr>\n",
       "  </thead>\n",
       "  <tbody>\n",
       "    <tr>\n",
       "      <th>1</th>\n",
       "      <td>0cee3912-62d7-497c-74cc-de5d4d243625</td>\n",
       "      <td>2020-04-01</td>\n",
       "      <td>0</td>\n",
       "      <td>0.0</td>\n",
       "    </tr>\n",
       "    <tr>\n",
       "      <th>2</th>\n",
       "      <td>0e145107-36a6-091a-edc7-047b395fb224</td>\n",
       "      <td>2020-04-01</td>\n",
       "      <td>0</td>\n",
       "      <td>0.0</td>\n",
       "    </tr>\n",
       "    <tr>\n",
       "      <th>3</th>\n",
       "      <td>1000018370.1585198172</td>\n",
       "      <td>2020-04-01</td>\n",
       "      <td>0</td>\n",
       "      <td>0.0</td>\n",
       "    </tr>\n",
       "    <tr>\n",
       "      <th>4</th>\n",
       "      <td>1000028568.1585761942</td>\n",
       "      <td>2020-04-01</td>\n",
       "      <td>0</td>\n",
       "      <td>0.0</td>\n",
       "    </tr>\n",
       "    <tr>\n",
       "      <th>5</th>\n",
       "      <td>1000084732.1585721148</td>\n",
       "      <td>2020-04-01</td>\n",
       "      <td>0</td>\n",
       "      <td>0.0</td>\n",
       "    </tr>\n",
       "    <tr>\n",
       "      <th>...</th>\n",
       "      <td>...</td>\n",
       "      <td>...</td>\n",
       "      <td>...</td>\n",
       "      <td>...</td>\n",
       "    </tr>\n",
       "    <tr>\n",
       "      <th>2348203</th>\n",
       "      <td>999959210.1593477490</td>\n",
       "      <td>2020-06-30</td>\n",
       "      <td>0</td>\n",
       "      <td>0.0</td>\n",
       "    </tr>\n",
       "    <tr>\n",
       "      <th>2348204</th>\n",
       "      <td>999974081.1593509838</td>\n",
       "      <td>2020-06-30</td>\n",
       "      <td>0</td>\n",
       "      <td>0.0</td>\n",
       "    </tr>\n",
       "    <tr>\n",
       "      <th>2348205</th>\n",
       "      <td>999977883.1593487375</td>\n",
       "      <td>2020-06-30</td>\n",
       "      <td>0</td>\n",
       "      <td>0.0</td>\n",
       "    </tr>\n",
       "    <tr>\n",
       "      <th>2348206</th>\n",
       "      <td>e607dcc6-4ed3-b2db-21e3-28d01aabe564</td>\n",
       "      <td>2020-06-30</td>\n",
       "      <td>0</td>\n",
       "      <td>0.0</td>\n",
       "    </tr>\n",
       "    <tr>\n",
       "      <th>2348207</th>\n",
       "      <td>function%2525252525252525252525252525252525252...</td>\n",
       "      <td>2020-06-30</td>\n",
       "      <td>0</td>\n",
       "      <td>0.0</td>\n",
       "    </tr>\n",
       "  </tbody>\n",
       "</table>\n",
       "<p>2348207 rows × 4 columns</p>\n",
       "</div>"
      ],
      "text/plain": [
       "                                               dimension12        date  \\\n",
       "1                     0cee3912-62d7-497c-74cc-de5d4d243625  2020-04-01   \n",
       "2                     0e145107-36a6-091a-edc7-047b395fb224  2020-04-01   \n",
       "3                                    1000018370.1585198172  2020-04-01   \n",
       "4                                    1000028568.1585761942  2020-04-01   \n",
       "5                                    1000084732.1585721148  2020-04-01   \n",
       "...                                                    ...         ...   \n",
       "2348203                               999959210.1593477490  2020-06-30   \n",
       "2348204                               999974081.1593509838  2020-06-30   \n",
       "2348205                               999977883.1593487375  2020-06-30   \n",
       "2348206               e607dcc6-4ed3-b2db-21e3-28d01aabe564  2020-06-30   \n",
       "2348207  function%2525252525252525252525252525252525252...  2020-06-30   \n",
       "\n",
       "         transactions  transactionRevenue  \n",
       "1                   0                 0.0  \n",
       "2                   0                 0.0  \n",
       "3                   0                 0.0  \n",
       "4                   0                 0.0  \n",
       "5                   0                 0.0  \n",
       "...               ...                 ...  \n",
       "2348203             0                 0.0  \n",
       "2348204             0                 0.0  \n",
       "2348205             0                 0.0  \n",
       "2348206             0                 0.0  \n",
       "2348207             0                 0.0  \n",
       "\n",
       "[2348207 rows x 4 columns]"
      ]
     },
     "execution_count": 2,
     "metadata": {},
     "output_type": "execute_result"
    }
   ],
   "source": [
    "df = pd.read_csv('dataset3.csv', index_col=0)\n",
    "df"
   ]
  },
  {
   "cell_type": "code",
   "execution_count": 3,
   "metadata": {},
   "outputs": [],
   "source": [
    "df=df.drop(df[df['dimension12']=='function%252525252525252525252525252525252525252525252525252525252525252525252525252525252525252525252525252525252525252525252525252525252525252525252525252525252525252525252525252525252525252525252525252525252525252525252525252525252525252525252525252525252525252525252525252525252525252525252525252525252525252525252525252525252525252525252525252525252525252525252525252525252525252525252525252525252525252525252525252525252525252525252525252525252525252525252525252525252525252525252525252525252525252525252525252525252525252525252525252525252525252525252525252525252525252525252525252525252525252525252525252525252525252525252525252525252525252525252525252525252525252525252520%25252525252525252525252525252525252525252525252525252525252525252525252525252525252525252525252525252525252525252525252525252525252525252525252525252525252525252525252525252525252525252525252525252525252525252525252525252525252525252525252525252525252525252525252525252525252525252525252525252525252525252525252525252525252525252525252525252525252525252525252525252525252525252525252525252525252525252525252525252525252525252525252525252525252525252525252525252525252525252525252525252525252525252525252525252525'].index)"
   ]
  },
  {
   "cell_type": "code",
   "execution_count": 4,
   "metadata": {},
   "outputs": [],
   "source": [
    "df.dropna(axis=0,inplace=True)\n",
    "df=df[['dimension12','date','transactions', 'transactionRevenue']].drop_duplicates()"
   ]
  },
  {
   "cell_type": "code",
   "execution_count": 5,
   "metadata": {},
   "outputs": [
    {
     "data": {
      "text/html": [
       "<div>\n",
       "<style scoped>\n",
       "    .dataframe tbody tr th:only-of-type {\n",
       "        vertical-align: middle;\n",
       "    }\n",
       "\n",
       "    .dataframe tbody tr th {\n",
       "        vertical-align: top;\n",
       "    }\n",
       "\n",
       "    .dataframe thead th {\n",
       "        text-align: right;\n",
       "    }\n",
       "</style>\n",
       "<table border=\"1\" class=\"dataframe\">\n",
       "  <thead>\n",
       "    <tr style=\"text-align: right;\">\n",
       "      <th></th>\n",
       "      <th>cid</th>\n",
       "      <th>date</th>\n",
       "      <th>transactions</th>\n",
       "      <th>monetary</th>\n",
       "    </tr>\n",
       "  </thead>\n",
       "  <tbody>\n",
       "    <tr>\n",
       "      <th>1</th>\n",
       "      <td>0cee3912-62d7-497c-74cc-de5d4d243625</td>\n",
       "      <td>2020-04-01</td>\n",
       "      <td>0</td>\n",
       "      <td>0.0</td>\n",
       "    </tr>\n",
       "    <tr>\n",
       "      <th>2</th>\n",
       "      <td>0e145107-36a6-091a-edc7-047b395fb224</td>\n",
       "      <td>2020-04-01</td>\n",
       "      <td>0</td>\n",
       "      <td>0.0</td>\n",
       "    </tr>\n",
       "    <tr>\n",
       "      <th>3</th>\n",
       "      <td>1000018370.1585198172</td>\n",
       "      <td>2020-04-01</td>\n",
       "      <td>0</td>\n",
       "      <td>0.0</td>\n",
       "    </tr>\n",
       "    <tr>\n",
       "      <th>4</th>\n",
       "      <td>1000028568.1585761942</td>\n",
       "      <td>2020-04-01</td>\n",
       "      <td>0</td>\n",
       "      <td>0.0</td>\n",
       "    </tr>\n",
       "    <tr>\n",
       "      <th>5</th>\n",
       "      <td>1000084732.1585721148</td>\n",
       "      <td>2020-04-01</td>\n",
       "      <td>0</td>\n",
       "      <td>0.0</td>\n",
       "    </tr>\n",
       "  </tbody>\n",
       "</table>\n",
       "</div>"
      ],
      "text/plain": [
       "                                    cid        date  transactions  monetary\n",
       "1  0cee3912-62d7-497c-74cc-de5d4d243625  2020-04-01             0       0.0\n",
       "2  0e145107-36a6-091a-edc7-047b395fb224  2020-04-01             0       0.0\n",
       "3                 1000018370.1585198172  2020-04-01             0       0.0\n",
       "4                 1000028568.1585761942  2020-04-01             0       0.0\n",
       "5                 1000084732.1585721148  2020-04-01             0       0.0"
      ]
     },
     "execution_count": 5,
     "metadata": {},
     "output_type": "execute_result"
    }
   ],
   "source": [
    "df.rename(columns= {'dimension12':'cid','transactionRevenue': 'monetary'}, inplace=True)\n",
    "df.head()"
   ]
  },
  {
   "cell_type": "code",
   "execution_count": 6,
   "metadata": {},
   "outputs": [
    {
     "data": {
      "text/plain": [
       "cid             0\n",
       "date            0\n",
       "transactions    0\n",
       "monetary        0\n",
       "dtype: int64"
      ]
     },
     "execution_count": 6,
     "metadata": {},
     "output_type": "execute_result"
    }
   ],
   "source": [
    "df.isna().sum()"
   ]
  },
  {
   "cell_type": "code",
   "execution_count": 7,
   "metadata": {},
   "outputs": [
    {
     "data": {
      "text/plain": [
       "True"
      ]
     },
     "execution_count": 7,
     "metadata": {},
     "output_type": "execute_result"
    }
   ],
   "source": [
    "'(other)' in df.cid.unique()"
   ]
  },
  {
   "cell_type": "code",
   "execution_count": 8,
   "metadata": {},
   "outputs": [],
   "source": [
    "df=df[df['cid']!='(other)']"
   ]
  },
  {
   "cell_type": "code",
   "execution_count": 9,
   "metadata": {},
   "outputs": [
    {
     "name": "stdout",
     "output_type": "stream",
     "text": [
      "Sessions: 2348193 With purchases: 1.92 %  or: 44982\n"
     ]
    }
   ],
   "source": [
    "print('Sessions:',len(df), 'With purchases:', round(len(df[df['transactions']>0])/len(df)*100,2),'%', ' or:', len(df[df['transactions']>0]))"
   ]
  },
  {
   "cell_type": "code",
   "execution_count": 11,
   "metadata": {},
   "outputs": [
    {
     "name": "stdout",
     "output_type": "stream",
     "text": [
      "Sessions with purchases: 44982 Repeated: 6.56 %  or: 2949\n"
     ]
    }
   ],
   "source": [
    "print('Sessions with purchases:',len(df[df['transactions']>0]), 'Repeated:', round(len(df[df['transactions']>1])/len(df[df['transactions']>0])*100,2),'%', ' or:', len(df[df['transactions']>1]))"
   ]
  },
  {
   "cell_type": "code",
   "execution_count": 12,
   "metadata": {},
   "outputs": [
    {
     "data": {
      "text/html": [
       "<div>\n",
       "<style scoped>\n",
       "    .dataframe tbody tr th:only-of-type {\n",
       "        vertical-align: middle;\n",
       "    }\n",
       "\n",
       "    .dataframe tbody tr th {\n",
       "        vertical-align: top;\n",
       "    }\n",
       "\n",
       "    .dataframe thead th {\n",
       "        text-align: right;\n",
       "    }\n",
       "</style>\n",
       "<table border=\"1\" class=\"dataframe\">\n",
       "  <thead>\n",
       "    <tr style=\"text-align: right;\">\n",
       "      <th></th>\n",
       "      <th>cid</th>\n",
       "      <th>date</th>\n",
       "      <th>transactions</th>\n",
       "      <th>monetary</th>\n",
       "    </tr>\n",
       "  </thead>\n",
       "  <tbody>\n",
       "    <tr>\n",
       "      <th>40</th>\n",
       "      <td>1002336906.1585729794</td>\n",
       "      <td>2020-04-01</td>\n",
       "      <td>1</td>\n",
       "      <td>6433.0</td>\n",
       "    </tr>\n",
       "    <tr>\n",
       "      <th>111</th>\n",
       "      <td>1008541452.1585737565</td>\n",
       "      <td>2020-04-01</td>\n",
       "      <td>1</td>\n",
       "      <td>5799.0</td>\n",
       "    </tr>\n",
       "    <tr>\n",
       "      <th>115</th>\n",
       "      <td>1008926362.1585732954</td>\n",
       "      <td>2020-04-01</td>\n",
       "      <td>1</td>\n",
       "      <td>5759.0</td>\n",
       "    </tr>\n",
       "    <tr>\n",
       "      <th>134</th>\n",
       "      <td>1010118525.1585294807</td>\n",
       "      <td>2020-04-01</td>\n",
       "      <td>1</td>\n",
       "      <td>1678.0</td>\n",
       "    </tr>\n",
       "    <tr>\n",
       "      <th>392</th>\n",
       "      <td>1027996752.1584087242</td>\n",
       "      <td>2020-04-01</td>\n",
       "      <td>1</td>\n",
       "      <td>3137.0</td>\n",
       "    </tr>\n",
       "    <tr>\n",
       "      <th>...</th>\n",
       "      <td>...</td>\n",
       "      <td>...</td>\n",
       "      <td>...</td>\n",
       "      <td>...</td>\n",
       "    </tr>\n",
       "    <tr>\n",
       "      <th>2347999</th>\n",
       "      <td>989350260.1593448072</td>\n",
       "      <td>2020-06-30</td>\n",
       "      <td>1</td>\n",
       "      <td>3555.0</td>\n",
       "    </tr>\n",
       "    <tr>\n",
       "      <th>2348039</th>\n",
       "      <td>991177232.1593504531</td>\n",
       "      <td>2020-06-30</td>\n",
       "      <td>1</td>\n",
       "      <td>1283.0</td>\n",
       "    </tr>\n",
       "    <tr>\n",
       "      <th>2348095</th>\n",
       "      <td>994517415.1589728137</td>\n",
       "      <td>2020-06-30</td>\n",
       "      <td>1</td>\n",
       "      <td>6119.0</td>\n",
       "    </tr>\n",
       "    <tr>\n",
       "      <th>2348123</th>\n",
       "      <td>996118675.1593544501</td>\n",
       "      <td>2020-06-30</td>\n",
       "      <td>1</td>\n",
       "      <td>810.0</td>\n",
       "    </tr>\n",
       "    <tr>\n",
       "      <th>2348125</th>\n",
       "      <td>996147486.1587162790</td>\n",
       "      <td>2020-06-30</td>\n",
       "      <td>1</td>\n",
       "      <td>3298.0</td>\n",
       "    </tr>\n",
       "  </tbody>\n",
       "</table>\n",
       "<p>44982 rows × 4 columns</p>\n",
       "</div>"
      ],
      "text/plain": [
       "                           cid        date  transactions  monetary\n",
       "40       1002336906.1585729794  2020-04-01             1    6433.0\n",
       "111      1008541452.1585737565  2020-04-01             1    5799.0\n",
       "115      1008926362.1585732954  2020-04-01             1    5759.0\n",
       "134      1010118525.1585294807  2020-04-01             1    1678.0\n",
       "392      1027996752.1584087242  2020-04-01             1    3137.0\n",
       "...                        ...         ...           ...       ...\n",
       "2347999   989350260.1593448072  2020-06-30             1    3555.0\n",
       "2348039   991177232.1593504531  2020-06-30             1    1283.0\n",
       "2348095   994517415.1589728137  2020-06-30             1    6119.0\n",
       "2348123   996118675.1593544501  2020-06-30             1     810.0\n",
       "2348125   996147486.1587162790  2020-06-30             1    3298.0\n",
       "\n",
       "[44982 rows x 4 columns]"
      ]
     },
     "execution_count": 12,
     "metadata": {},
     "output_type": "execute_result"
    }
   ],
   "source": [
    "df=df[df['transactions']>0]\n",
    "df"
   ]
  },
  {
   "cell_type": "code",
   "execution_count": 13,
   "metadata": {},
   "outputs": [
    {
     "name": "stdout",
     "output_type": "stream",
     "text": [
      "Typical purchase sum:  3429.0\n"
     ]
    }
   ],
   "source": [
    "print('Typical purchase sum: ', df.monetary.median() )"
   ]
  },
  {
   "cell_type": "markdown",
   "metadata": {},
   "source": [
    "**date format in date column**"
   ]
  },
  {
   "cell_type": "code",
   "execution_count": 14,
   "metadata": {},
   "outputs": [],
   "source": [
    "df['date'] = pd.to_datetime(df['date'], infer_datetime_format = True ) #format='%Y%m%d'"
   ]
  },
  {
   "cell_type": "code",
   "execution_count": 15,
   "metadata": {},
   "outputs": [
    {
     "data": {
      "text/plain": [
       "Timestamp('2020-04-01 00:00:00')"
      ]
     },
     "execution_count": 15,
     "metadata": {},
     "output_type": "execute_result"
    }
   ],
   "source": [
    "df.iloc[0]['date']"
   ]
  },
  {
   "cell_type": "code",
   "execution_count": 16,
   "metadata": {},
   "outputs": [],
   "source": [
    "today=pd.to_datetime('2020-07-01') # timestep # pd.Timestamp('now')\n",
    "\n",
    "# (today-df.iloc[0]['date']).dt.days"
   ]
  },
  {
   "cell_type": "code",
   "execution_count": 17,
   "metadata": {},
   "outputs": [
    {
     "data": {
      "text/html": [
       "<div>\n",
       "<style scoped>\n",
       "    .dataframe tbody tr th:only-of-type {\n",
       "        vertical-align: middle;\n",
       "    }\n",
       "\n",
       "    .dataframe tbody tr th {\n",
       "        vertical-align: top;\n",
       "    }\n",
       "\n",
       "    .dataframe thead th {\n",
       "        text-align: right;\n",
       "    }\n",
       "</style>\n",
       "<table border=\"1\" class=\"dataframe\">\n",
       "  <thead>\n",
       "    <tr style=\"text-align: right;\">\n",
       "      <th></th>\n",
       "      <th>cid</th>\n",
       "      <th>date</th>\n",
       "      <th>transactions</th>\n",
       "      <th>monetary</th>\n",
       "      <th>recency</th>\n",
       "    </tr>\n",
       "  </thead>\n",
       "  <tbody>\n",
       "    <tr>\n",
       "      <th>40</th>\n",
       "      <td>1002336906.1585729794</td>\n",
       "      <td>2020-04-01</td>\n",
       "      <td>1</td>\n",
       "      <td>6433.0</td>\n",
       "      <td>91</td>\n",
       "    </tr>\n",
       "    <tr>\n",
       "      <th>111</th>\n",
       "      <td>1008541452.1585737565</td>\n",
       "      <td>2020-04-01</td>\n",
       "      <td>1</td>\n",
       "      <td>5799.0</td>\n",
       "      <td>91</td>\n",
       "    </tr>\n",
       "    <tr>\n",
       "      <th>115</th>\n",
       "      <td>1008926362.1585732954</td>\n",
       "      <td>2020-04-01</td>\n",
       "      <td>1</td>\n",
       "      <td>5759.0</td>\n",
       "      <td>91</td>\n",
       "    </tr>\n",
       "    <tr>\n",
       "      <th>134</th>\n",
       "      <td>1010118525.1585294807</td>\n",
       "      <td>2020-04-01</td>\n",
       "      <td>1</td>\n",
       "      <td>1678.0</td>\n",
       "      <td>91</td>\n",
       "    </tr>\n",
       "    <tr>\n",
       "      <th>392</th>\n",
       "      <td>1027996752.1584087242</td>\n",
       "      <td>2020-04-01</td>\n",
       "      <td>1</td>\n",
       "      <td>3137.0</td>\n",
       "      <td>91</td>\n",
       "    </tr>\n",
       "    <tr>\n",
       "      <th>...</th>\n",
       "      <td>...</td>\n",
       "      <td>...</td>\n",
       "      <td>...</td>\n",
       "      <td>...</td>\n",
       "      <td>...</td>\n",
       "    </tr>\n",
       "    <tr>\n",
       "      <th>2347999</th>\n",
       "      <td>989350260.1593448072</td>\n",
       "      <td>2020-06-30</td>\n",
       "      <td>1</td>\n",
       "      <td>3555.0</td>\n",
       "      <td>1</td>\n",
       "    </tr>\n",
       "    <tr>\n",
       "      <th>2348039</th>\n",
       "      <td>991177232.1593504531</td>\n",
       "      <td>2020-06-30</td>\n",
       "      <td>1</td>\n",
       "      <td>1283.0</td>\n",
       "      <td>1</td>\n",
       "    </tr>\n",
       "    <tr>\n",
       "      <th>2348095</th>\n",
       "      <td>994517415.1589728137</td>\n",
       "      <td>2020-06-30</td>\n",
       "      <td>1</td>\n",
       "      <td>6119.0</td>\n",
       "      <td>1</td>\n",
       "    </tr>\n",
       "    <tr>\n",
       "      <th>2348123</th>\n",
       "      <td>996118675.1593544501</td>\n",
       "      <td>2020-06-30</td>\n",
       "      <td>1</td>\n",
       "      <td>810.0</td>\n",
       "      <td>1</td>\n",
       "    </tr>\n",
       "    <tr>\n",
       "      <th>2348125</th>\n",
       "      <td>996147486.1587162790</td>\n",
       "      <td>2020-06-30</td>\n",
       "      <td>1</td>\n",
       "      <td>3298.0</td>\n",
       "      <td>1</td>\n",
       "    </tr>\n",
       "  </tbody>\n",
       "</table>\n",
       "<p>44982 rows × 5 columns</p>\n",
       "</div>"
      ],
      "text/plain": [
       "                           cid       date  transactions  monetary  recency\n",
       "40       1002336906.1585729794 2020-04-01             1    6433.0       91\n",
       "111      1008541452.1585737565 2020-04-01             1    5799.0       91\n",
       "115      1008926362.1585732954 2020-04-01             1    5759.0       91\n",
       "134      1010118525.1585294807 2020-04-01             1    1678.0       91\n",
       "392      1027996752.1584087242 2020-04-01             1    3137.0       91\n",
       "...                        ...        ...           ...       ...      ...\n",
       "2347999   989350260.1593448072 2020-06-30             1    3555.0        1\n",
       "2348039   991177232.1593504531 2020-06-30             1    1283.0        1\n",
       "2348095   994517415.1589728137 2020-06-30             1    6119.0        1\n",
       "2348123   996118675.1593544501 2020-06-30             1     810.0        1\n",
       "2348125   996147486.1587162790 2020-06-30             1    3298.0        1\n",
       "\n",
       "[44982 rows x 5 columns]"
      ]
     },
     "execution_count": 17,
     "metadata": {},
     "output_type": "execute_result"
    }
   ],
   "source": [
    "df['recency'] = pd.to_datetime(df['date']).rsub(today.floor('d')).dt.days\n",
    "df"
   ]
  },
  {
   "cell_type": "code",
   "execution_count": 18,
   "metadata": {},
   "outputs": [],
   "source": [
    "del df['date']"
   ]
  },
  {
   "cell_type": "code",
   "execution_count": 19,
   "metadata": {},
   "outputs": [
    {
     "data": {
      "text/html": [
       "<div>\n",
       "<style scoped>\n",
       "    .dataframe tbody tr th:only-of-type {\n",
       "        vertical-align: middle;\n",
       "    }\n",
       "\n",
       "    .dataframe tbody tr th {\n",
       "        vertical-align: top;\n",
       "    }\n",
       "\n",
       "    .dataframe thead th {\n",
       "        text-align: right;\n",
       "    }\n",
       "</style>\n",
       "<table border=\"1\" class=\"dataframe\">\n",
       "  <thead>\n",
       "    <tr style=\"text-align: right;\">\n",
       "      <th></th>\n",
       "      <th>cid</th>\n",
       "      <th>transactions</th>\n",
       "      <th>monetary</th>\n",
       "      <th>recency</th>\n",
       "    </tr>\n",
       "  </thead>\n",
       "  <tbody>\n",
       "    <tr>\n",
       "      <th>40</th>\n",
       "      <td>1002336906.1585729794</td>\n",
       "      <td>1</td>\n",
       "      <td>6433.0</td>\n",
       "      <td>91</td>\n",
       "    </tr>\n",
       "    <tr>\n",
       "      <th>111</th>\n",
       "      <td>1008541452.1585737565</td>\n",
       "      <td>1</td>\n",
       "      <td>5799.0</td>\n",
       "      <td>91</td>\n",
       "    </tr>\n",
       "    <tr>\n",
       "      <th>115</th>\n",
       "      <td>1008926362.1585732954</td>\n",
       "      <td>1</td>\n",
       "      <td>5759.0</td>\n",
       "      <td>91</td>\n",
       "    </tr>\n",
       "    <tr>\n",
       "      <th>134</th>\n",
       "      <td>1010118525.1585294807</td>\n",
       "      <td>1</td>\n",
       "      <td>1678.0</td>\n",
       "      <td>91</td>\n",
       "    </tr>\n",
       "    <tr>\n",
       "      <th>392</th>\n",
       "      <td>1027996752.1584087242</td>\n",
       "      <td>1</td>\n",
       "      <td>3137.0</td>\n",
       "      <td>91</td>\n",
       "    </tr>\n",
       "  </tbody>\n",
       "</table>\n",
       "</div>"
      ],
      "text/plain": [
       "                       cid  transactions  monetary  recency\n",
       "40   1002336906.1585729794             1    6433.0       91\n",
       "111  1008541452.1585737565             1    5799.0       91\n",
       "115  1008926362.1585732954             1    5759.0       91\n",
       "134  1010118525.1585294807             1    1678.0       91\n",
       "392  1027996752.1584087242             1    3137.0       91"
      ]
     },
     "execution_count": 19,
     "metadata": {},
     "output_type": "execute_result"
    }
   ],
   "source": [
    "df.head()"
   ]
  },
  {
   "cell_type": "code",
   "execution_count": 20,
   "metadata": {},
   "outputs": [
    {
     "data": {
      "text/plain": [
       "3429.0"
      ]
     },
     "execution_count": 20,
     "metadata": {},
     "output_type": "execute_result"
    }
   ],
   "source": [
    "df.monetary.median()"
   ]
  },
  {
   "cell_type": "code",
   "execution_count": 21,
   "metadata": {},
   "outputs": [
    {
     "data": {
      "text/plain": [
       "4858.588901338313"
      ]
     },
     "execution_count": 21,
     "metadata": {},
     "output_type": "execute_result"
    }
   ],
   "source": [
    "df.monetary.mean()"
   ]
  },
  {
   "cell_type": "code",
   "execution_count": 22,
   "metadata": {},
   "outputs": [
    {
     "data": {
      "text/plain": [
       "174735.0"
      ]
     },
     "execution_count": 22,
     "metadata": {},
     "output_type": "execute_result"
    }
   ],
   "source": [
    "max(df.monetary)"
   ]
  },
  {
   "cell_type": "code",
   "execution_count": 23,
   "metadata": {},
   "outputs": [
    {
     "data": {
      "text/plain": [
       "72098.0"
      ]
     },
     "execution_count": 23,
     "metadata": {},
     "output_type": "execute_result"
    }
   ],
   "source": [
    "df[df['cid']=='686283008.1587884942']['monetary'].sum() "
   ]
  },
  {
   "cell_type": "markdown",
   "metadata": {},
   "source": [
    "**Check top 1%**"
   ]
  },
  {
   "cell_type": "code",
   "execution_count": 24,
   "metadata": {},
   "outputs": [
    {
     "data": {
      "text/plain": [
       "array([[<matplotlib.axes._subplots.AxesSubplot object at 0x000000000F351828>,\n",
       "        <matplotlib.axes._subplots.AxesSubplot object at 0x000000000F3A8B00>],\n",
       "       [<matplotlib.axes._subplots.AxesSubplot object at 0x000000000F3E0D68>,\n",
       "        <matplotlib.axes._subplots.AxesSubplot object at 0x000000000F416FD0>]],\n",
       "      dtype=object)"
      ]
     },
     "execution_count": 24,
     "metadata": {},
     "output_type": "execute_result"
    },
    {
     "data": {
      "image/png": "[encoded data removed]",
      "text/plain": [
       "<Figure size 1080x720 with 4 Axes>"
      ]
     },
     "metadata": {},
     "output_type": "display_data"
    }
   ],
   "source": [
    "df[df['monetary']>df['monetary'].quantile(0.99)].hist(bins=45)"
   ]
  },
  {
   "cell_type": "code",
   "execution_count": 25,
   "metadata": {},
   "outputs": [
    {
     "data": {
      "text/plain": [
       "array([[<matplotlib.axes._subplots.AxesSubplot object at 0x000000000F2EBC50>,\n",
       "        <matplotlib.axes._subplots.AxesSubplot object at 0x000000001004BBA8>],\n",
       "       [<matplotlib.axes._subplots.AxesSubplot object at 0x000000001007CE10>,\n",
       "        <matplotlib.axes._subplots.AxesSubplot object at 0x00000000100BF0B8>]],\n",
       "      dtype=object)"
      ]
     },
     "execution_count": 25,
     "metadata": {},
     "output_type": "execute_result"
    },
    {
     "data": {
      "image/png": "[encoded data removed]",
      "text/plain": [
       "<Figure size 1080x720 with 4 Axes>"
      ]
     },
     "metadata": {},
     "output_type": "display_data"
    }
   ],
   "source": [
    "df[df['monetary']<1000].hist(bins=45)"
   ]
  },
  {
   "cell_type": "code",
   "execution_count": 26,
   "metadata": {},
   "outputs": [
    {
     "data": {
      "text/html": [
       "<div>\n",
       "<style scoped>\n",
       "    .dataframe tbody tr th:only-of-type {\n",
       "        vertical-align: middle;\n",
       "    }\n",
       "\n",
       "    .dataframe tbody tr th {\n",
       "        vertical-align: top;\n",
       "    }\n",
       "\n",
       "    .dataframe thead th {\n",
       "        text-align: right;\n",
       "    }\n",
       "</style>\n",
       "<table border=\"1\" class=\"dataframe\">\n",
       "  <thead>\n",
       "    <tr style=\"text-align: right;\">\n",
       "      <th></th>\n",
       "      <th>cid</th>\n",
       "      <th>transactions</th>\n",
       "      <th>monetary</th>\n",
       "      <th>recency</th>\n",
       "    </tr>\n",
       "  </thead>\n",
       "  <tbody>\n",
       "    <tr>\n",
       "      <th>1105919</th>\n",
       "      <td>1450226213.1588615957</td>\n",
       "      <td>1</td>\n",
       "      <td>1.0</td>\n",
       "      <td>48</td>\n",
       "    </tr>\n",
       "    <tr>\n",
       "      <th>1107157</th>\n",
       "      <td>1536942500.1589472645</td>\n",
       "      <td>1</td>\n",
       "      <td>1.0</td>\n",
       "      <td>48</td>\n",
       "    </tr>\n",
       "    <tr>\n",
       "      <th>1108805</th>\n",
       "      <td>1645283006.1588852402</td>\n",
       "      <td>1</td>\n",
       "      <td>1.0</td>\n",
       "      <td>48</td>\n",
       "    </tr>\n",
       "    <tr>\n",
       "      <th>1112868</th>\n",
       "      <td>1910555044.1586937999</td>\n",
       "      <td>1</td>\n",
       "      <td>1.0</td>\n",
       "      <td>48</td>\n",
       "    </tr>\n",
       "    <tr>\n",
       "      <th>1122561</th>\n",
       "      <td>63390222.1584711566</td>\n",
       "      <td>1</td>\n",
       "      <td>1.0</td>\n",
       "      <td>48</td>\n",
       "    </tr>\n",
       "    <tr>\n",
       "      <th>...</th>\n",
       "      <td>...</td>\n",
       "      <td>...</td>\n",
       "      <td>...</td>\n",
       "      <td>...</td>\n",
       "    </tr>\n",
       "    <tr>\n",
       "      <th>2334448</th>\n",
       "      <td>223022737.1584908162</td>\n",
       "      <td>1</td>\n",
       "      <td>3.0</td>\n",
       "      <td>1</td>\n",
       "    </tr>\n",
       "    <tr>\n",
       "      <th>2336223</th>\n",
       "      <td>32139568.1593525524</td>\n",
       "      <td>1</td>\n",
       "      <td>1.0</td>\n",
       "      <td>1</td>\n",
       "    </tr>\n",
       "    <tr>\n",
       "      <th>2340587</th>\n",
       "      <td>570693926.1587462235</td>\n",
       "      <td>1</td>\n",
       "      <td>1.0</td>\n",
       "      <td>1</td>\n",
       "    </tr>\n",
       "    <tr>\n",
       "      <th>2341229</th>\n",
       "      <td>605862310.1593536556</td>\n",
       "      <td>1</td>\n",
       "      <td>1.0</td>\n",
       "      <td>1</td>\n",
       "    </tr>\n",
       "    <tr>\n",
       "      <th>2345220</th>\n",
       "      <td>833801857.1591897633</td>\n",
       "      <td>1</td>\n",
       "      <td>1.0</td>\n",
       "      <td>1</td>\n",
       "    </tr>\n",
       "  </tbody>\n",
       "</table>\n",
       "<p>306 rows × 4 columns</p>\n",
       "</div>"
      ],
      "text/plain": [
       "                           cid  transactions  monetary  recency\n",
       "1105919  1450226213.1588615957             1       1.0       48\n",
       "1107157  1536942500.1589472645             1       1.0       48\n",
       "1108805  1645283006.1588852402             1       1.0       48\n",
       "1112868  1910555044.1586937999             1       1.0       48\n",
       "1122561    63390222.1584711566             1       1.0       48\n",
       "...                        ...           ...       ...      ...\n",
       "2334448   223022737.1584908162             1       3.0        1\n",
       "2336223    32139568.1593525524             1       1.0        1\n",
       "2340587   570693926.1587462235             1       1.0        1\n",
       "2341229   605862310.1593536556             1       1.0        1\n",
       "2345220   833801857.1591897633             1       1.0        1\n",
       "\n",
       "[306 rows x 4 columns]"
      ]
     },
     "execution_count": 26,
     "metadata": {},
     "output_type": "execute_result"
    }
   ],
   "source": [
    "df[(df['monetary']<10) & (df['monetary']>0) & (df['transactions']==1)]"
   ]
  },
  {
   "cell_type": "markdown",
   "metadata": {},
   "source": [
    "306 purchases in one transaction with the bill < 10 RUB."
   ]
  },
  {
   "cell_type": "markdown",
   "metadata": {},
   "source": [
    "**RFM**"
   ]
  },
  {
   "cell_type": "markdown",
   "metadata": {},
   "source": [
    "Removing Top 1% record for analysis (as they might skew the analysis), these customers can be studied separately, if they are outliers or genuine bulk buyers."
   ]
  },
  {
   "cell_type": "code",
   "execution_count": 33,
   "metadata": {},
   "outputs": [],
   "source": [
    "# recency_cleaned = df[df['recency']<df['recency'].quantile(0.99)]\n",
    "# frequency_cleaned = df[df['transactions']<df['transactions'].quantile(0.99)]\n",
    "# monetary_cleaned = df[df['monetary']<df['monetary'].quantile(0.99)]\n",
    "# #Merging three dataframes to create rfm table\n",
    "# rfm_table=pd.merge(pd.merge(recency_cleaned[['cid','recency','transactions','monetary']],frequency_cleaned[['cid']],on='cid'),monetary_cleaned[['cid']],on='cid')"
   ]
  },
  {
   "cell_type": "code",
   "execution_count": 35,
   "metadata": {},
   "outputs": [],
   "source": [
    "# max(rfm_table.monetary)"
   ]
  },
  {
   "cell_type": "code",
   "execution_count": 36,
   "metadata": {},
   "outputs": [
    {
     "data": {
      "text/plain": [
       "22899.0"
      ]
     },
     "execution_count": 36,
     "metadata": {},
     "output_type": "execute_result"
    }
   ],
   "source": [
    "df['monetary'].quantile(0.99)"
   ]
  },
  {
   "cell_type": "code",
   "execution_count": 37,
   "metadata": {},
   "outputs": [
    {
     "data": {
      "text/plain": [
       "63773      174735.0\n",
       "173375     122485.0\n",
       "2327615     97404.0\n",
       "258340      79487.0\n",
       "490543      79326.0\n",
       "             ...   \n",
       "837828          0.0\n",
       "938791          0.0\n",
       "983001          0.0\n",
       "949675          0.0\n",
       "908057          0.0\n",
       "Name: monetary, Length: 44982, dtype: float64"
      ]
     },
     "execution_count": 37,
     "metadata": {},
     "output_type": "execute_result"
    }
   ],
   "source": [
    "df['monetary'].sort_values(ascending=False)"
   ]
  },
  {
   "cell_type": "code",
   "execution_count": 39,
   "metadata": {},
   "outputs": [],
   "source": [
    "# monetary_cleaned.monetary.sort_values(ascending=False)"
   ]
  },
  {
   "cell_type": "code",
   "execution_count": 40,
   "metadata": {},
   "outputs": [],
   "source": [
    "rfmTable=df.copy()"
   ]
  },
  {
   "cell_type": "code",
   "execution_count": 41,
   "metadata": {},
   "outputs": [],
   "source": [
    "rfmTable.drop(rfmTable.loc[rfmTable.cid=='function%252525252525252525252525252525252525252525252525252525252525252525252525252525252525252525252525252525252525252525252525252525252525252525252525252525252525252525252525252525252525252525252525252525252525252525252525252525252525252525252525252525252525252525252525252525252525252525252525252525252525252525252525252525252525252525252525252525252525252525252525252525252525252525252525252525252525252525252525252525252525252525252525252525252525252525252525252525252525252525252525252525252525252525252525252525252525252525252525252525252525252525252525252525252525252525252525252525252525252525252525252525252525252525252525252525252525252525252525252525252525252525252520%25252525252525252525252525252525252525252525252525252525252525252525252525252525252525252525252525252525252525252525252525252525252525252525252525252525252525252525252525252525252525252525252525252525252525252525252525252525252525252525252525252525252525252525252525252525252525252525252525252525252525252525252525252525252525252525252525252525252525252525252525252525252525252525252525252525252525252525252525252525252525252525252525252525252525252525252525252525252525252525252525252525252525252525252525252525'].index, inplace=True)"
   ]
  },
  {
   "cell_type": "code",
   "execution_count": 42,
   "metadata": {},
   "outputs": [],
   "source": [
    "# remove top 1%\n",
    "rfmTable=rfmTable[rfmTable['recency']<rfmTable['recency'].quantile(0.99)]\n",
    "rfmTable=rfmTable[rfmTable['transactions']<rfmTable['transactions'].quantile(0.99)]\n",
    "rfmTable=rfmTable[rfmTable['monetary']<rfmTable['monetary'].quantile(0.99)]"
   ]
  },
  {
   "cell_type": "markdown",
   "metadata": {},
   "source": [
    "Recency - min date, transactions and monetary - sum."
   ]
  },
  {
   "cell_type": "code",
   "execution_count": 43,
   "metadata": {},
   "outputs": [],
   "source": [
    "rfmTable = rfmTable.groupby('cid').agg({'recency': lambda x: x.min(), # Recency\n",
    "                                        'transactions': lambda x: x.sum(),               # Frequency\n",
    "                                        'monetary': lambda x: x.sum()}).reset_index() \n",
    "\n",
    "rfmTable.rename(columns={ 'transactions': 'frequency'}, inplace=True)"
   ]
  },
  {
   "cell_type": "code",
   "execution_count": 45,
   "metadata": {},
   "outputs": [
    {
     "name": "stdout",
     "output_type": "stream",
     "text": [
      "Max:  85322.0 Min:  0.0 Median:  3431.5\n"
     ]
    }
   ],
   "source": [
    "print('Max: ',max(rfmTable.monetary), 'Min: ', min(rfmTable.monetary), 'Median: ', rfmTable.monetary.median())"
   ]
  },
  {
   "cell_type": "code",
   "execution_count": 46,
   "metadata": {},
   "outputs": [
    {
     "data": {
      "text/html": [
       "<div>\n",
       "<style scoped>\n",
       "    .dataframe tbody tr th:only-of-type {\n",
       "        vertical-align: middle;\n",
       "    }\n",
       "\n",
       "    .dataframe tbody tr th {\n",
       "        vertical-align: top;\n",
       "    }\n",
       "\n",
       "    .dataframe thead th {\n",
       "        text-align: right;\n",
       "    }\n",
       "</style>\n",
       "<table border=\"1\" class=\"dataframe\">\n",
       "  <thead>\n",
       "    <tr style=\"text-align: right;\">\n",
       "      <th></th>\n",
       "      <th>cid</th>\n",
       "      <th>recency</th>\n",
       "      <th>frequency</th>\n",
       "      <th>monetary</th>\n",
       "    </tr>\n",
       "  </thead>\n",
       "  <tbody>\n",
       "    <tr>\n",
       "      <th>0</th>\n",
       "      <td>010da180-4a11-141b-a75d-54dcb1f6f8f1</td>\n",
       "      <td>79</td>\n",
       "      <td>1</td>\n",
       "      <td>4048.0</td>\n",
       "    </tr>\n",
       "    <tr>\n",
       "      <th>1</th>\n",
       "      <td>0bd6bd97-4b6e-dcf1-2d9a-f36b543c1680</td>\n",
       "      <td>18</td>\n",
       "      <td>1</td>\n",
       "      <td>7474.0</td>\n",
       "    </tr>\n",
       "    <tr>\n",
       "      <th>2</th>\n",
       "      <td>0cee3912-62d7-497c-74cc-de5d4d243625</td>\n",
       "      <td>1</td>\n",
       "      <td>1</td>\n",
       "      <td>1020.0</td>\n",
       "    </tr>\n",
       "    <tr>\n",
       "      <th>3</th>\n",
       "      <td>1000018370.1585198172</td>\n",
       "      <td>7</td>\n",
       "      <td>1</td>\n",
       "      <td>299.0</td>\n",
       "    </tr>\n",
       "    <tr>\n",
       "      <th>4</th>\n",
       "      <td>1000035401.1591451100</td>\n",
       "      <td>25</td>\n",
       "      <td>1</td>\n",
       "      <td>1711.0</td>\n",
       "    </tr>\n",
       "    <tr>\n",
       "      <th>...</th>\n",
       "      <td>...</td>\n",
       "      <td>...</td>\n",
       "      <td>...</td>\n",
       "      <td>...</td>\n",
       "    </tr>\n",
       "    <tr>\n",
       "      <th>38713</th>\n",
       "      <td>999905829.1590502795</td>\n",
       "      <td>36</td>\n",
       "      <td>1</td>\n",
       "      <td>6480.0</td>\n",
       "    </tr>\n",
       "    <tr>\n",
       "      <th>38714</th>\n",
       "      <td>a2bc5dc7-d373-dff1-ffe6-5c3410fcb3a2</td>\n",
       "      <td>59</td>\n",
       "      <td>1</td>\n",
       "      <td>7217.0</td>\n",
       "    </tr>\n",
       "    <tr>\n",
       "      <th>38715</th>\n",
       "      <td>ca9fa0bb-ffbb-d8a9-2d40-d41abfe66e95</td>\n",
       "      <td>7</td>\n",
       "      <td>1</td>\n",
       "      <td>1959.0</td>\n",
       "    </tr>\n",
       "    <tr>\n",
       "      <th>38716</th>\n",
       "      <td>d4275fcf-dc38-721b-cdaa-d8e1f49136b5</td>\n",
       "      <td>54</td>\n",
       "      <td>1</td>\n",
       "      <td>13799.0</td>\n",
       "    </tr>\n",
       "    <tr>\n",
       "      <th>38717</th>\n",
       "      <td>fff177b4-6673-7f4a-5afd-fefb16946879</td>\n",
       "      <td>30</td>\n",
       "      <td>2</td>\n",
       "      <td>12362.0</td>\n",
       "    </tr>\n",
       "  </tbody>\n",
       "</table>\n",
       "<p>38718 rows × 4 columns</p>\n",
       "</div>"
      ],
      "text/plain": [
       "                                        cid  recency  frequency  monetary\n",
       "0      010da180-4a11-141b-a75d-54dcb1f6f8f1       79          1    4048.0\n",
       "1      0bd6bd97-4b6e-dcf1-2d9a-f36b543c1680       18          1    7474.0\n",
       "2      0cee3912-62d7-497c-74cc-de5d4d243625        1          1    1020.0\n",
       "3                     1000018370.1585198172        7          1     299.0\n",
       "4                     1000035401.1591451100       25          1    1711.0\n",
       "...                                     ...      ...        ...       ...\n",
       "38713                  999905829.1590502795       36          1    6480.0\n",
       "38714  a2bc5dc7-d373-dff1-ffe6-5c3410fcb3a2       59          1    7217.0\n",
       "38715  ca9fa0bb-ffbb-d8a9-2d40-d41abfe66e95        7          1    1959.0\n",
       "38716  d4275fcf-dc38-721b-cdaa-d8e1f49136b5       54          1   13799.0\n",
       "38717  fff177b4-6673-7f4a-5afd-fefb16946879       30          2   12362.0\n",
       "\n",
       "[38718 rows x 4 columns]"
      ]
     },
     "execution_count": 46,
     "metadata": {},
     "output_type": "execute_result"
    }
   ],
   "source": [
    "rfmTable"
   ]
  },
  {
   "cell_type": "code",
   "execution_count": 47,
   "metadata": {},
   "outputs": [
    {
     "data": {
      "text/plain": [
       "42036"
      ]
     },
     "execution_count": 47,
     "metadata": {},
     "output_type": "execute_result"
    }
   ],
   "source": [
    "len(df.cid.unique())"
   ]
  },
  {
   "cell_type": "code",
   "execution_count": 48,
   "metadata": {},
   "outputs": [],
   "source": [
    "from sklearn import preprocessing\n",
    "\n",
    "rfm2=rfmTable.copy()\n",
    "rfm2=rfm2.set_index('cid')\n",
    "norm = preprocessing.StandardScaler()\n",
    "norm.fit(rfm2)\n",
    "X = norm.transform(rfm2)"
   ]
  },
  {
   "cell_type": "code",
   "execution_count": 49,
   "metadata": {},
   "outputs": [
    {
     "data": {
      "image/png": "[encoded data removed]",
      "text/plain": [
       "<Figure size 1080x720 with 1 Axes>"
      ]
     },
     "metadata": {},
     "output_type": "display_data"
    }
   ],
   "source": [
    "from sklearn.cluster import KMeans\n",
    "\n",
    "K = range(1, 9)\n",
    "models = [KMeans(n_clusters=k).fit(X) for k in K]\n",
    "dist = [model.inertia_ for model in models]\n",
    "\n",
    "# Plot the elbow\n",
    "plt.plot(K, dist, marker='o')\n",
    "plt.xlabel('Clusters')\n",
    "plt.ylabel('Dist sum')\n",
    "plt.show()"
   ]
  },
  {
   "cell_type": "markdown",
   "metadata": {},
   "source": [
    "Ok. Got 4 clusters. However, calculations were made using 3 and for clusters and the result was approx the same. Taking 3 clusters is less expensive:"
   ]
  },
  {
   "cell_type": "code",
   "execution_count": 50,
   "metadata": {},
   "outputs": [
    {
     "data": {
      "text/html": [
       "<div>\n",
       "<style scoped>\n",
       "    .dataframe tbody tr th:only-of-type {\n",
       "        vertical-align: middle;\n",
       "    }\n",
       "\n",
       "    .dataframe tbody tr th {\n",
       "        vertical-align: top;\n",
       "    }\n",
       "\n",
       "    .dataframe thead th {\n",
       "        text-align: right;\n",
       "    }\n",
       "</style>\n",
       "<table border=\"1\" class=\"dataframe\">\n",
       "  <thead>\n",
       "    <tr style=\"text-align: right;\">\n",
       "      <th></th>\n",
       "      <th>recency</th>\n",
       "      <th>frequency</th>\n",
       "      <th>monetary</th>\n",
       "    </tr>\n",
       "    <tr>\n",
       "      <th>cluster</th>\n",
       "      <th></th>\n",
       "      <th></th>\n",
       "      <th></th>\n",
       "    </tr>\n",
       "  </thead>\n",
       "  <tbody>\n",
       "    <tr>\n",
       "      <th>0</th>\n",
       "      <td>45.333424</td>\n",
       "      <td>1.068959</td>\n",
       "      <td>6357.800855</td>\n",
       "    </tr>\n",
       "    <tr>\n",
       "      <th>1</th>\n",
       "      <td>39.265172</td>\n",
       "      <td>1.030959</td>\n",
       "      <td>2175.423407</td>\n",
       "    </tr>\n",
       "    <tr>\n",
       "      <th>2</th>\n",
       "      <td>48.257478</td>\n",
       "      <td>1.186408</td>\n",
       "      <td>13689.347449</td>\n",
       "    </tr>\n",
       "  </tbody>\n",
       "</table>\n",
       "</div>"
      ],
      "text/plain": [
       "           recency  frequency      monetary\n",
       "cluster                                    \n",
       "0        45.333424   1.068959   6357.800855\n",
       "1        39.265172   1.030959   2175.423407\n",
       "2        48.257478   1.186408  13689.347449"
      ]
     },
     "execution_count": 50,
     "metadata": {},
     "output_type": "execute_result"
    }
   ],
   "source": [
    "rfm2=rfmTable.copy()\n",
    "model = KMeans(n_clusters=3, random_state=42)\n",
    "model.fit(rfm2)\n",
    "rfm2['cluster'] = model.labels_\n",
    "rfm2.groupby('cluster').mean()"
   ]
  },
  {
   "cell_type": "markdown",
   "metadata": {},
   "source": [
    "3 clusters"
   ]
  },
  {
   "cell_type": "code",
   "execution_count": 51,
   "metadata": {},
   "outputs": [],
   "source": [
    "def order_cluster(cluster_field_name, target_field_name, df, ascending):\n",
    "    new_cluster_field_name = 'new_'+cluster_field_name\n",
    "    df_new = df.groupby(cluster_field_name)[target_field_name].mean().reset_index()\n",
    "    df_new = df_new.sort_values(by=target_field_name, ascending = ascending).reset_index(drop=True)\n",
    "    df_new['index']=df_new.index\n",
    "    df_final = pd.merge(df, df_new[[cluster_field_name, 'index']], on=cluster_field_name)\n",
    "    df_final = df_final.drop([cluster_field_name], axis=1)\n",
    "    df_final = df_final.rename(columns={\"index\":cluster_field_name})\n",
    "#     df_final['cid']=df['cid']\n",
    "    return df_final\n",
    "\n",
    "#Recency Clusters\n",
    "kmeans = KMeans(n_clusters=3)\n",
    "kmeans.fit(rfmTable[['recency']])\n",
    "rfmTable['RecencyCluster']=kmeans.predict(rfmTable[['recency']])\n",
    "rfmTable = order_cluster('RecencyCluster','recency', rfmTable, False)\n",
    "\n",
    "#Frequency Clusters\n",
    "kmeans = KMeans(n_clusters=3)\n",
    "kmeans.fit(rfmTable[['frequency']])\n",
    "rfmTable['FrequencyCluster']=kmeans.predict(rfmTable[['frequency']])\n",
    "rfmTable = order_cluster('FrequencyCluster','frequency', rfmTable, True)\n",
    "\n",
    "#Monetary Clusters\n",
    "kmeans = KMeans(n_clusters=3)\n",
    "kmeans.fit(rfmTable[['monetary']])\n",
    "rfmTable['MonetaryCluster']=kmeans.predict(rfmTable[['monetary']])\n",
    "rfmTable = order_cluster('MonetaryCluster','monetary', rfmTable, True)\n",
    "\n",
    "# Define a function to map the values \n",
    "def set_value(row_number, assigned_value): \n",
    "    return assigned_value[row_number] \n",
    "  \n",
    "# Creating Recency Custer Tag Column\n",
    "c=rfmTable.groupby('RecencyCluster')['recency'].agg(['min','max','median']).reset_index()\n",
    "r1='<='+str(c.iloc[2,2]) \n",
    "r2=str(c.iloc[1,1])+' to '+str(c.iloc[1,2]) \n",
    "r3='>='+str(c.iloc[0,1])\n",
    "# Create the dictionary \n",
    "R ={0 : r3, 1 : r2, 2 : r1} \n",
    "rfmTable['RecencyClusterTag']=rfmTable['RecencyCluster'].apply(set_value, args =(R, )) \n",
    "\n",
    "# Creating Frequency Custer Tag Column\n",
    "a=rfmTable.groupby('FrequencyCluster')['frequency'].agg(['min','max','median']).reset_index()\n",
    "f1='<='+str(a.iloc[0,2]) \n",
    "f2=str(a.iloc[1,1])+' to '+str(a.iloc[1,2]) \n",
    "f3='>='+str(a.iloc[2,1])\n",
    "# Create the dictionary \n",
    "F ={0 : f1, 1 : f2, 2 :f3} \n",
    "rfmTable['FrequencyClusterTag']=rfmTable['FrequencyCluster'].apply(set_value, args =(F, )) \n",
    "\n",
    "# Creating Monetary Custer Tag Column\n",
    "b=rfmTable.groupby('MonetaryCluster')['monetary'].agg(['min','max','median']).reset_index()\n",
    "m1='<='+str(int(round(b.iloc[0,2]))) \n",
    "m2=str(int(round(b.iloc[0,2])+1))+' to '+str(int(round(b.iloc[1,2]))) \n",
    "m3='>='+str(int(round(b.iloc[1,2])+1))\n",
    "# Create the dictionary \n",
    "M ={0 : m1, 1 : m2, 2 :m3} \n",
    "rfmTable['MonetaryClusterTag']=rfmTable['MonetaryCluster'].apply(set_value, args =(M, )) \n",
    "\n",
    "rfmTable[\"FrequencyClusterTag\"] = rfmTable[\"FrequencyClusterTag\"].astype(pd.api.types.CategoricalDtype(categories=[f1, f2, f3]))\n",
    "rfmTable[\"MonetaryClusterTag\"] = rfmTable[\"MonetaryClusterTag\"].astype(pd.api.types.CategoricalDtype(categories=[m1, m2,m3]))\n",
    "rfmTable[\"RecencyClusterTag\"] = rfmTable[\"RecencyClusterTag\"].astype(pd.api.types.CategoricalDtype(categories=[r1, r2,r3]))\n"
   ]
  },
  {
   "cell_type": "code",
   "execution_count": 52,
   "metadata": {},
   "outputs": [
    {
     "data": {
      "text/html": [
       "<div>\n",
       "<style scoped>\n",
       "    .dataframe tbody tr th:only-of-type {\n",
       "        vertical-align: middle;\n",
       "    }\n",
       "\n",
       "    .dataframe tbody tr th {\n",
       "        vertical-align: top;\n",
       "    }\n",
       "\n",
       "    .dataframe thead th {\n",
       "        text-align: right;\n",
       "    }\n",
       "</style>\n",
       "<table border=\"1\" class=\"dataframe\">\n",
       "  <thead>\n",
       "    <tr style=\"text-align: right;\">\n",
       "      <th></th>\n",
       "      <th>MonetaryCluster</th>\n",
       "      <th>min</th>\n",
       "      <th>max</th>\n",
       "      <th>median</th>\n",
       "    </tr>\n",
       "  </thead>\n",
       "  <tbody>\n",
       "    <tr>\n",
       "      <th>0</th>\n",
       "      <td>0</td>\n",
       "      <td>0.0</td>\n",
       "      <td>4259.0</td>\n",
       "      <td>1999.0</td>\n",
       "    </tr>\n",
       "    <tr>\n",
       "      <th>1</th>\n",
       "      <td>1</td>\n",
       "      <td>4267.0</td>\n",
       "      <td>9989.0</td>\n",
       "      <td>5999.0</td>\n",
       "    </tr>\n",
       "    <tr>\n",
       "      <th>2</th>\n",
       "      <td>2</td>\n",
       "      <td>9995.0</td>\n",
       "      <td>85322.0</td>\n",
       "      <td>12748.0</td>\n",
       "    </tr>\n",
       "  </tbody>\n",
       "</table>\n",
       "</div>"
      ],
      "text/plain": [
       "   MonetaryCluster     min      max   median\n",
       "0                0     0.0   4259.0   1999.0\n",
       "1                1  4267.0   9989.0   5999.0\n",
       "2                2  9995.0  85322.0  12748.0"
      ]
     },
     "execution_count": 52,
     "metadata": {},
     "output_type": "execute_result"
    }
   ],
   "source": [
    "b"
   ]
  },
  {
   "cell_type": "code",
   "execution_count": 53,
   "metadata": {},
   "outputs": [
    {
     "data": {
      "text/html": [
       "<div>\n",
       "<style scoped>\n",
       "    .dataframe tbody tr th:only-of-type {\n",
       "        vertical-align: middle;\n",
       "    }\n",
       "\n",
       "    .dataframe tbody tr th {\n",
       "        vertical-align: top;\n",
       "    }\n",
       "\n",
       "    .dataframe thead th {\n",
       "        text-align: right;\n",
       "    }\n",
       "</style>\n",
       "<table border=\"1\" class=\"dataframe\">\n",
       "  <thead>\n",
       "    <tr style=\"text-align: right;\">\n",
       "      <th></th>\n",
       "      <th>cid</th>\n",
       "      <th>recency</th>\n",
       "      <th>frequency</th>\n",
       "      <th>monetary</th>\n",
       "      <th>RecencyCluster</th>\n",
       "      <th>FrequencyCluster</th>\n",
       "      <th>MonetaryCluster</th>\n",
       "      <th>RecencyClusterTag</th>\n",
       "      <th>FrequencyClusterTag</th>\n",
       "      <th>MonetaryClusterTag</th>\n",
       "    </tr>\n",
       "  </thead>\n",
       "  <tbody>\n",
       "    <tr>\n",
       "      <th>0</th>\n",
       "      <td>010da180-4a11-141b-a75d-54dcb1f6f8f1</td>\n",
       "      <td>79</td>\n",
       "      <td>1</td>\n",
       "      <td>4048.0</td>\n",
       "      <td>0</td>\n",
       "      <td>0</td>\n",
       "      <td>0</td>\n",
       "      <td>&gt;=60</td>\n",
       "      <td>&lt;=1</td>\n",
       "      <td>&lt;=4259</td>\n",
       "    </tr>\n",
       "    <tr>\n",
       "      <th>1</th>\n",
       "      <td>1000674534.1588101303</td>\n",
       "      <td>64</td>\n",
       "      <td>1</td>\n",
       "      <td>3499.0</td>\n",
       "      <td>0</td>\n",
       "      <td>0</td>\n",
       "      <td>0</td>\n",
       "      <td>&gt;=60</td>\n",
       "      <td>&lt;=1</td>\n",
       "      <td>&lt;=4259</td>\n",
       "    </tr>\n",
       "    <tr>\n",
       "      <th>2</th>\n",
       "      <td>1001031570.1586261140</td>\n",
       "      <td>76</td>\n",
       "      <td>1</td>\n",
       "      <td>3800.0</td>\n",
       "      <td>0</td>\n",
       "      <td>0</td>\n",
       "      <td>0</td>\n",
       "      <td>&gt;=60</td>\n",
       "      <td>&lt;=1</td>\n",
       "      <td>&lt;=4259</td>\n",
       "    </tr>\n",
       "    <tr>\n",
       "      <th>3</th>\n",
       "      <td>1001640183.1588135561</td>\n",
       "      <td>63</td>\n",
       "      <td>1</td>\n",
       "      <td>4157.0</td>\n",
       "      <td>0</td>\n",
       "      <td>0</td>\n",
       "      <td>0</td>\n",
       "      <td>&gt;=60</td>\n",
       "      <td>&lt;=1</td>\n",
       "      <td>&lt;=4259</td>\n",
       "    </tr>\n",
       "    <tr>\n",
       "      <th>4</th>\n",
       "      <td>1002242630.1586081772</td>\n",
       "      <td>87</td>\n",
       "      <td>1</td>\n",
       "      <td>2449.0</td>\n",
       "      <td>0</td>\n",
       "      <td>0</td>\n",
       "      <td>0</td>\n",
       "      <td>&gt;=60</td>\n",
       "      <td>&lt;=1</td>\n",
       "      <td>&lt;=4259</td>\n",
       "    </tr>\n",
       "    <tr>\n",
       "      <th>...</th>\n",
       "      <td>...</td>\n",
       "      <td>...</td>\n",
       "      <td>...</td>\n",
       "      <td>...</td>\n",
       "      <td>...</td>\n",
       "      <td>...</td>\n",
       "      <td>...</td>\n",
       "      <td>...</td>\n",
       "      <td>...</td>\n",
       "      <td>...</td>\n",
       "    </tr>\n",
       "    <tr>\n",
       "      <th>38713</th>\n",
       "      <td>681981489.1526907868</td>\n",
       "      <td>55</td>\n",
       "      <td>3</td>\n",
       "      <td>29887.0</td>\n",
       "      <td>1</td>\n",
       "      <td>2</td>\n",
       "      <td>2</td>\n",
       "      <td>31 to 59</td>\n",
       "      <td>&gt;=3</td>\n",
       "      <td>&gt;=9990</td>\n",
       "    </tr>\n",
       "    <tr>\n",
       "      <th>38714</th>\n",
       "      <td>704618424.1586420263</td>\n",
       "      <td>56</td>\n",
       "      <td>4</td>\n",
       "      <td>24377.0</td>\n",
       "      <td>1</td>\n",
       "      <td>2</td>\n",
       "      <td>2</td>\n",
       "      <td>31 to 59</td>\n",
       "      <td>&gt;=3</td>\n",
       "      <td>&gt;=9990</td>\n",
       "    </tr>\n",
       "    <tr>\n",
       "      <th>38715</th>\n",
       "      <td>739643835.1585809709</td>\n",
       "      <td>47</td>\n",
       "      <td>3</td>\n",
       "      <td>18157.0</td>\n",
       "      <td>1</td>\n",
       "      <td>2</td>\n",
       "      <td>2</td>\n",
       "      <td>31 to 59</td>\n",
       "      <td>&gt;=3</td>\n",
       "      <td>&gt;=9990</td>\n",
       "    </tr>\n",
       "    <tr>\n",
       "      <th>38716</th>\n",
       "      <td>82181370.1583573450</td>\n",
       "      <td>48</td>\n",
       "      <td>3</td>\n",
       "      <td>34006.0</td>\n",
       "      <td>1</td>\n",
       "      <td>2</td>\n",
       "      <td>2</td>\n",
       "      <td>31 to 59</td>\n",
       "      <td>&gt;=3</td>\n",
       "      <td>&gt;=9990</td>\n",
       "    </tr>\n",
       "    <tr>\n",
       "      <th>38717</th>\n",
       "      <td>935784076.1571901665</td>\n",
       "      <td>35</td>\n",
       "      <td>3</td>\n",
       "      <td>30788.0</td>\n",
       "      <td>1</td>\n",
       "      <td>2</td>\n",
       "      <td>2</td>\n",
       "      <td>31 to 59</td>\n",
       "      <td>&gt;=3</td>\n",
       "      <td>&gt;=9990</td>\n",
       "    </tr>\n",
       "  </tbody>\n",
       "</table>\n",
       "<p>38718 rows × 10 columns</p>\n",
       "</div>"
      ],
      "text/plain": [
       "                                        cid  recency  frequency  monetary  \\\n",
       "0      010da180-4a11-141b-a75d-54dcb1f6f8f1       79          1    4048.0   \n",
       "1                     1000674534.1588101303       64          1    3499.0   \n",
       "2                     1001031570.1586261140       76          1    3800.0   \n",
       "3                     1001640183.1588135561       63          1    4157.0   \n",
       "4                     1002242630.1586081772       87          1    2449.0   \n",
       "...                                     ...      ...        ...       ...   \n",
       "38713                  681981489.1526907868       55          3   29887.0   \n",
       "38714                  704618424.1586420263       56          4   24377.0   \n",
       "38715                  739643835.1585809709       47          3   18157.0   \n",
       "38716                   82181370.1583573450       48          3   34006.0   \n",
       "38717                  935784076.1571901665       35          3   30788.0   \n",
       "\n",
       "       RecencyCluster  FrequencyCluster  MonetaryCluster RecencyClusterTag  \\\n",
       "0                   0                 0                0              >=60   \n",
       "1                   0                 0                0              >=60   \n",
       "2                   0                 0                0              >=60   \n",
       "3                   0                 0                0              >=60   \n",
       "4                   0                 0                0              >=60   \n",
       "...               ...               ...              ...               ...   \n",
       "38713               1                 2                2          31 to 59   \n",
       "38714               1                 2                2          31 to 59   \n",
       "38715               1                 2                2          31 to 59   \n",
       "38716               1                 2                2          31 to 59   \n",
       "38717               1                 2                2          31 to 59   \n",
       "\n",
       "      FrequencyClusterTag MonetaryClusterTag  \n",
       "0                     <=1             <=4259  \n",
       "1                     <=1             <=4259  \n",
       "2                     <=1             <=4259  \n",
       "3                     <=1             <=4259  \n",
       "4                     <=1             <=4259  \n",
       "...                   ...                ...  \n",
       "38713                 >=3             >=9990  \n",
       "38714                 >=3             >=9990  \n",
       "38715                 >=3             >=9990  \n",
       "38716                 >=3             >=9990  \n",
       "38717                 >=3             >=9990  \n",
       "\n",
       "[38718 rows x 10 columns]"
      ]
     },
     "execution_count": 53,
     "metadata": {},
     "output_type": "execute_result"
    }
   ],
   "source": [
    "rfmTable"
   ]
  },
  {
   "cell_type": "code",
   "execution_count": 54,
   "metadata": {},
   "outputs": [],
   "source": [
    "rfmTable['RFMClass'] = rfmTable.RecencyCluster.map(str) \\\n",
    "                            + rfmTable.FrequencyCluster.map(str) \\\n",
    "                            + rfmTable.MonetaryCluster.map(str)"
   ]
  },
  {
   "cell_type": "code",
   "execution_count": 55,
   "metadata": {},
   "outputs": [
    {
     "data": {
      "text/html": [
       "<div>\n",
       "<style scoped>\n",
       "    .dataframe tbody tr th:only-of-type {\n",
       "        vertical-align: middle;\n",
       "    }\n",
       "\n",
       "    .dataframe tbody tr th {\n",
       "        vertical-align: top;\n",
       "    }\n",
       "\n",
       "    .dataframe thead th {\n",
       "        text-align: right;\n",
       "    }\n",
       "</style>\n",
       "<table border=\"1\" class=\"dataframe\">\n",
       "  <thead>\n",
       "    <tr style=\"text-align: right;\">\n",
       "      <th></th>\n",
       "      <th>cid</th>\n",
       "      <th>recency</th>\n",
       "      <th>frequency</th>\n",
       "      <th>monetary</th>\n",
       "      <th>RecencyCluster</th>\n",
       "      <th>FrequencyCluster</th>\n",
       "      <th>MonetaryCluster</th>\n",
       "      <th>RecencyClusterTag</th>\n",
       "      <th>FrequencyClusterTag</th>\n",
       "      <th>MonetaryClusterTag</th>\n",
       "      <th>RFMClass</th>\n",
       "    </tr>\n",
       "  </thead>\n",
       "  <tbody>\n",
       "    <tr>\n",
       "      <th>0</th>\n",
       "      <td>010da180-4a11-141b-a75d-54dcb1f6f8f1</td>\n",
       "      <td>79</td>\n",
       "      <td>1</td>\n",
       "      <td>4048.0</td>\n",
       "      <td>0</td>\n",
       "      <td>0</td>\n",
       "      <td>0</td>\n",
       "      <td>&gt;=60</td>\n",
       "      <td>&lt;=1</td>\n",
       "      <td>&lt;=4259</td>\n",
       "      <td>000</td>\n",
       "    </tr>\n",
       "    <tr>\n",
       "      <th>1</th>\n",
       "      <td>1000674534.1588101303</td>\n",
       "      <td>64</td>\n",
       "      <td>1</td>\n",
       "      <td>3499.0</td>\n",
       "      <td>0</td>\n",
       "      <td>0</td>\n",
       "      <td>0</td>\n",
       "      <td>&gt;=60</td>\n",
       "      <td>&lt;=1</td>\n",
       "      <td>&lt;=4259</td>\n",
       "      <td>000</td>\n",
       "    </tr>\n",
       "    <tr>\n",
       "      <th>2</th>\n",
       "      <td>1001031570.1586261140</td>\n",
       "      <td>76</td>\n",
       "      <td>1</td>\n",
       "      <td>3800.0</td>\n",
       "      <td>0</td>\n",
       "      <td>0</td>\n",
       "      <td>0</td>\n",
       "      <td>&gt;=60</td>\n",
       "      <td>&lt;=1</td>\n",
       "      <td>&lt;=4259</td>\n",
       "      <td>000</td>\n",
       "    </tr>\n",
       "    <tr>\n",
       "      <th>3</th>\n",
       "      <td>1001640183.1588135561</td>\n",
       "      <td>63</td>\n",
       "      <td>1</td>\n",
       "      <td>4157.0</td>\n",
       "      <td>0</td>\n",
       "      <td>0</td>\n",
       "      <td>0</td>\n",
       "      <td>&gt;=60</td>\n",
       "      <td>&lt;=1</td>\n",
       "      <td>&lt;=4259</td>\n",
       "      <td>000</td>\n",
       "    </tr>\n",
       "    <tr>\n",
       "      <th>4</th>\n",
       "      <td>1002242630.1586081772</td>\n",
       "      <td>87</td>\n",
       "      <td>1</td>\n",
       "      <td>2449.0</td>\n",
       "      <td>0</td>\n",
       "      <td>0</td>\n",
       "      <td>0</td>\n",
       "      <td>&gt;=60</td>\n",
       "      <td>&lt;=1</td>\n",
       "      <td>&lt;=4259</td>\n",
       "      <td>000</td>\n",
       "    </tr>\n",
       "    <tr>\n",
       "      <th>...</th>\n",
       "      <td>...</td>\n",
       "      <td>...</td>\n",
       "      <td>...</td>\n",
       "      <td>...</td>\n",
       "      <td>...</td>\n",
       "      <td>...</td>\n",
       "      <td>...</td>\n",
       "      <td>...</td>\n",
       "      <td>...</td>\n",
       "      <td>...</td>\n",
       "      <td>...</td>\n",
       "    </tr>\n",
       "    <tr>\n",
       "      <th>38713</th>\n",
       "      <td>681981489.1526907868</td>\n",
       "      <td>55</td>\n",
       "      <td>3</td>\n",
       "      <td>29887.0</td>\n",
       "      <td>1</td>\n",
       "      <td>2</td>\n",
       "      <td>2</td>\n",
       "      <td>31 to 59</td>\n",
       "      <td>&gt;=3</td>\n",
       "      <td>&gt;=9990</td>\n",
       "      <td>122</td>\n",
       "    </tr>\n",
       "    <tr>\n",
       "      <th>38714</th>\n",
       "      <td>704618424.1586420263</td>\n",
       "      <td>56</td>\n",
       "      <td>4</td>\n",
       "      <td>24377.0</td>\n",
       "      <td>1</td>\n",
       "      <td>2</td>\n",
       "      <td>2</td>\n",
       "      <td>31 to 59</td>\n",
       "      <td>&gt;=3</td>\n",
       "      <td>&gt;=9990</td>\n",
       "      <td>122</td>\n",
       "    </tr>\n",
       "    <tr>\n",
       "      <th>38715</th>\n",
       "      <td>739643835.1585809709</td>\n",
       "      <td>47</td>\n",
       "      <td>3</td>\n",
       "      <td>18157.0</td>\n",
       "      <td>1</td>\n",
       "      <td>2</td>\n",
       "      <td>2</td>\n",
       "      <td>31 to 59</td>\n",
       "      <td>&gt;=3</td>\n",
       "      <td>&gt;=9990</td>\n",
       "      <td>122</td>\n",
       "    </tr>\n",
       "    <tr>\n",
       "      <th>38716</th>\n",
       "      <td>82181370.1583573450</td>\n",
       "      <td>48</td>\n",
       "      <td>3</td>\n",
       "      <td>34006.0</td>\n",
       "      <td>1</td>\n",
       "      <td>2</td>\n",
       "      <td>2</td>\n",
       "      <td>31 to 59</td>\n",
       "      <td>&gt;=3</td>\n",
       "      <td>&gt;=9990</td>\n",
       "      <td>122</td>\n",
       "    </tr>\n",
       "    <tr>\n",
       "      <th>38717</th>\n",
       "      <td>935784076.1571901665</td>\n",
       "      <td>35</td>\n",
       "      <td>3</td>\n",
       "      <td>30788.0</td>\n",
       "      <td>1</td>\n",
       "      <td>2</td>\n",
       "      <td>2</td>\n",
       "      <td>31 to 59</td>\n",
       "      <td>&gt;=3</td>\n",
       "      <td>&gt;=9990</td>\n",
       "      <td>122</td>\n",
       "    </tr>\n",
       "  </tbody>\n",
       "</table>\n",
       "<p>38718 rows × 11 columns</p>\n",
       "</div>"
      ],
      "text/plain": [
       "                                        cid  recency  frequency  monetary  \\\n",
       "0      010da180-4a11-141b-a75d-54dcb1f6f8f1       79          1    4048.0   \n",
       "1                     1000674534.1588101303       64          1    3499.0   \n",
       "2                     1001031570.1586261140       76          1    3800.0   \n",
       "3                     1001640183.1588135561       63          1    4157.0   \n",
       "4                     1002242630.1586081772       87          1    2449.0   \n",
       "...                                     ...      ...        ...       ...   \n",
       "38713                  681981489.1526907868       55          3   29887.0   \n",
       "38714                  704618424.1586420263       56          4   24377.0   \n",
       "38715                  739643835.1585809709       47          3   18157.0   \n",
       "38716                   82181370.1583573450       48          3   34006.0   \n",
       "38717                  935784076.1571901665       35          3   30788.0   \n",
       "\n",
       "       RecencyCluster  FrequencyCluster  MonetaryCluster RecencyClusterTag  \\\n",
       "0                   0                 0                0              >=60   \n",
       "1                   0                 0                0              >=60   \n",
       "2                   0                 0                0              >=60   \n",
       "3                   0                 0                0              >=60   \n",
       "4                   0                 0                0              >=60   \n",
       "...               ...               ...              ...               ...   \n",
       "38713               1                 2                2          31 to 59   \n",
       "38714               1                 2                2          31 to 59   \n",
       "38715               1                 2                2          31 to 59   \n",
       "38716               1                 2                2          31 to 59   \n",
       "38717               1                 2                2          31 to 59   \n",
       "\n",
       "      FrequencyClusterTag MonetaryClusterTag RFMClass  \n",
       "0                     <=1             <=4259      000  \n",
       "1                     <=1             <=4259      000  \n",
       "2                     <=1             <=4259      000  \n",
       "3                     <=1             <=4259      000  \n",
       "4                     <=1             <=4259      000  \n",
       "...                   ...                ...      ...  \n",
       "38713                 >=3             >=9990      122  \n",
       "38714                 >=3             >=9990      122  \n",
       "38715                 >=3             >=9990      122  \n",
       "38716                 >=3             >=9990      122  \n",
       "38717                 >=3             >=9990      122  \n",
       "\n",
       "[38718 rows x 11 columns]"
      ]
     },
     "execution_count": 55,
     "metadata": {},
     "output_type": "execute_result"
    }
   ],
   "source": [
    "rfmTable"
   ]
  },
  {
   "cell_type": "code",
   "execution_count": 56,
   "metadata": {},
   "outputs": [],
   "source": [
    "rfmTable.to_csv('rfmclusters.csv', encoding='utf-16', sep='\\t')"
   ]
  },
  {
   "cell_type": "code",
   "execution_count": 57,
   "metadata": {
    "scrolled": false
   },
   "outputs": [
    {
     "data": {
      "text/plain": [
       "2771.0"
      ]
     },
     "execution_count": 57,
     "metadata": {},
     "output_type": "execute_result"
    }
   ],
   "source": [
    "rfmTable[rfmTable['RecencyCluster']==2]['monetary'].median()"
   ]
  },
  {
   "cell_type": "code",
   "execution_count": 58,
   "metadata": {},
   "outputs": [
    {
     "data": {
      "text/plain": [
       "38718"
      ]
     },
     "execution_count": 58,
     "metadata": {},
     "output_type": "execute_result"
    }
   ],
   "source": [
    "len(rfmTable.cid.unique())"
   ]
  },
  {
   "cell_type": "code",
   "execution_count": 59,
   "metadata": {},
   "outputs": [
    {
     "data": {
      "text/plain": [
       "Text(0, 0.5, 'Amount')"
      ]
     },
     "execution_count": 59,
     "metadata": {},
     "output_type": "execute_result"
    },
    {
     "data": {
      "image/png": "[encoded data removed]",
      "text/plain": [
       "<Figure size 1080x720 with 1 Axes>"
      ]
     },
     "metadata": {},
     "output_type": "display_data"
    }
   ],
   "source": [
    "ax = rfmTable.groupby('FrequencyClusterTag')['cid'].count().plot.bar()\n",
    "\n",
    "totals=[]\n",
    "for i in ax.patches:\n",
    "    totals.append(i.get_height())\n",
    "\n",
    "total = sum(totals)\n",
    "\n",
    "kk=0\n",
    "for i in ax.patches:\n",
    "    if kk==0:\n",
    "        # get_x pulls left or right; get_height pushes up or down\n",
    "        ax.text(i.get_x()+0.1, i.get_height()-2000, str(round((i.get_height()/total)*100, 2))+'%', fontsize=22, color='black')\n",
    "        ax.text(i.get_x()+0.1, i.get_height()-5000, str(int(i.get_height())), fontsize=22, color='black')\n",
    "    else:\n",
    "        ax.text(i.get_x()+0.1, i.get_height()+5000, str(round((i.get_height()/total)*100, 2))+'%', fontsize=22, color='black')\n",
    "        ax.text(i.get_x()+0.1, i.get_height()+2000, str(int(i.get_height())), fontsize=22, color='black')\n",
    "    kk+=1\n",
    "    \n",
    "plt.xticks(rotation=45)\n",
    "ax.set_ylabel('Amount')"
   ]
  },
  {
   "cell_type": "markdown",
   "metadata": {},
   "source": [
    "4 clusters"
   ]
  },
  {
   "cell_type": "code",
   "execution_count": 61,
   "metadata": {},
   "outputs": [],
   "source": [
    "# quartiles = rfm2.quantile(q=[0.25,0.50,0.75])\n",
    "# print(quartiles, type(quartiles))"
   ]
  },
  {
   "cell_type": "code",
   "execution_count": 62,
   "metadata": {},
   "outputs": [],
   "source": [
    "# quartiles=quartiles.to_dict()\n",
    "# quartiles"
   ]
  },
  {
   "cell_type": "code",
   "execution_count": 443,
   "metadata": {},
   "outputs": [],
   "source": [
    "# ## for Recency \n",
    "\n",
    "# def RClass(x,p,d):\n",
    "#     if x <= d[p][0.25]:\n",
    "#         return 1\n",
    "#     elif x <= d[p][0.50]:\n",
    "#         return 2\n",
    "#     elif x <= d[p][0.75]: \n",
    "#         return 3\n",
    "#     else:\n",
    "#         return 4\n",
    "    \n",
    "# ## for Frequency and Monetary value \n",
    "\n",
    "# def FMClass(x,p,d):\n",
    "#     if x <= d[p][0.25]:\n",
    "#         return 4\n",
    "#     elif x <= d[p][0.50]:\n",
    "#         return 3\n",
    "#     elif x <= d[p][0.75]: \n",
    "#         return 2\n",
    "#     else:\n",
    "#         return 1    "
   ]
  },
  {
   "cell_type": "code",
   "execution_count": 444,
   "metadata": {},
   "outputs": [],
   "source": [
    "# rfmSeg = rfm2\n",
    "# rfmSeg['R_Quartile'] = rfmSeg['recency'].apply(RClass, args=('recency',quartiles,))\n",
    "# rfmSeg['F_Quartile'] = rfmSeg['frequency'].apply(FMClass, args=('frequency',quartiles,))\n",
    "# rfmSeg['M_Quartile'] = rfmSeg['monetary'].apply(FMClass, args=('monetary',quartiles,))"
   ]
  },
  {
   "cell_type": "code",
   "execution_count": 445,
   "metadata": {},
   "outputs": [],
   "source": [
    "# rfmSeg['RFMClass'] = rfmSeg.R_Quartile.map(str) \\\n",
    "#                             + rfmSeg.F_Quartile.map(str) \\\n",
    "#                             + rfmSeg.M_Quartile.map(str)"
   ]
  },
  {
   "cell_type": "code",
   "execution_count": 63,
   "metadata": {},
   "outputs": [],
   "source": [
    "# rfmSeg"
   ]
  },
  {
   "cell_type": "code",
   "execution_count": 64,
   "metadata": {},
   "outputs": [],
   "source": [
    "# rfmSeg.sort_values(by=['RFMClass', 'monetary'], ascending=[True, False])"
   ]
  },
  {
   "cell_type": "code",
   "execution_count": 65,
   "metadata": {},
   "outputs": [],
   "source": [
    "# rfmSeg['F_Quartile'].hist()"
   ]
  },
  {
   "cell_type": "code",
   "execution_count": 66,
   "metadata": {},
   "outputs": [],
   "source": [
    "# len(rfmSeg[rfmSeg['M_Quartile']==2])"
   ]
  },
  {
   "cell_type": "code",
   "execution_count": 67,
   "metadata": {},
   "outputs": [],
   "source": [
    "# ax = rfmSeg.groupby('R_Quartile')['cid'].count().plot.bar()\n",
    "\n",
    "# totals=[]\n",
    "# for i in ax.patches:\n",
    "#     totals.append(i.get_height())\n",
    "\n",
    "# total = sum(totals)\n",
    "\n",
    "# for i in ax.patches:\n",
    "#     # get_x pulls left or right; get_height pushes up or down\n",
    "#     ax.text(i.get_x()+0.1, i.get_height()-1000, str(round((i.get_height()/total)*100, 2))+'%', fontsize=22, color='white')\n",
    "#     ax.text(i.get_x()+0.1, i.get_height()-2000, str(int(i.get_height())), fontsize=22, color='white')\n",
    "    \n",
    "# plt.xticks(rotation=45)\n",
    "# ax.set_ylabel('Users amount')"
   ]
  },
  {
   "cell_type": "code",
   "execution_count": 68,
   "metadata": {},
   "outputs": [],
   "source": [
    "# rfmSeg.groupby('RFMClass').agg('monetary').median().plot(kind='bar', colormap='Blues_r')"
   ]
  },
  {
   "cell_type": "code",
   "execution_count": 69,
   "metadata": {},
   "outputs": [],
   "source": [
    "# rfmSeg['Total Score'] = rfmSeg['R_Quartile'] + rfmSeg['F_Quartile'] +rfmSeg['M_Quartile']\n",
    "# print(rfmSeg.head(), rfmSeg.info())"
   ]
  },
  {
   "cell_type": "code",
   "execution_count": 70,
   "metadata": {},
   "outputs": [],
   "source": [
    "# rfmSeg.groupby('Total Score').agg('monetary').mean()"
   ]
  },
  {
   "cell_type": "code",
   "execution_count": 71,
   "metadata": {},
   "outputs": [],
   "source": [
    "# rfmSeg.groupby('Total Score').agg('monetary').median().plot(kind='bar', colormap='Blues_r')"
   ]
  },
  {
   "cell_type": "code",
   "execution_count": 72,
   "metadata": {},
   "outputs": [],
   "source": [
    "# rfmSeg"
   ]
  },
  {
   "cell_type": "code",
   "execution_count": 73,
   "metadata": {},
   "outputs": [],
   "source": [
    "# Best Recency score = 1: most recently purchase.\n",
    "# Best Frequency score = 1: most quantity purchase. \n",
    "# Best Monetary score = 1: spent the most.\n",
    "\n",
    "# rfmSeg[rfmSeg['RFMClass']=='111'].sort_values('monetary', ascending=False).head(10)"
   ]
  },
  {
   "cell_type": "code",
   "execution_count": 74,
   "metadata": {},
   "outputs": [],
   "source": [
    "# print(\"Best Customers: \",len(rfmSeg[rfmSeg['RFMClass']=='111']))\n",
    "# print('Loyal Customers: ',len(rfmSeg[rfmSeg['F_Quartile']==1]))\n",
    "# print(\"Big Spenders: \",len(rfmSeg[rfmSeg['M_Quartile']==1]))\n",
    "# print('Almost Lost: ', len(rfmSeg[rfmSeg['RFMClass']=='311']))\n",
    "# print('Lost Customers: ',len(rfmSeg[rfmSeg['RFMClass']=='411']))\n",
    "# print('Lost Cheap Customers: ',len(rfmSeg[rfmSeg['RFMClass']=='444']))"
   ]
  },
  {
   "cell_type": "code",
   "execution_count": null,
   "metadata": {},
   "outputs": [],
   "source": []
  }
 ],
 "metadata": {
  "kernelspec": {
   "display_name": "Python 3",
   "language": "python",
   "name": "python3"
  },
  "language_info": {
   "codemirror_mode": {
    "name": "ipython",
    "version": 3
   },
   "file_extension": ".py",
   "mimetype": "text/x-python",
   "name": "python",
   "nbconvert_exporter": "python",
   "pygments_lexer": "ipython3",
   "version": "3.6.4"
  }
 },
 "nbformat": 4,
 "nbformat_minor": 4
}
